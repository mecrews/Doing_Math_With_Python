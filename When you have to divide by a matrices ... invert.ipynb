{
 "cells": [
  {
   "cell_type": "markdown",
   "metadata": {},
   "source": [
    "### Inverse Matrix in Python\n"
   ]
  },
  {
   "cell_type": "markdown",
   "metadata": {},
   "source": [
    "#### The problem:\n",
    "\n",
    "A group comprised of kids and adults took the metro to a baseball game.  The cost of transportation to go was \\\\$3 per child and \\\\$3.20 per adult for a total cost of \\\\$118.40. The game was a bit boring so the group ended up taking the bus home which would get them home sooner. The cost of the bus was \\\\$3.50 per child and \\\\$3.60 per adult for a total of \\\\$135.20.\n",
    "\n",
    "[Source of Idea](https://www.mathsisfun.com/algebra/matrix-inverse.html)\n",
    "\n",
    "How many kids and adults were in the group?\n",
    "\n",
    "This is basically a 2 x 2 Linear System set of equations.\n",
    "\n",
    "#### Two equations, two unknowns:\n",
    "\n",
    "$$x_1 * m_k + x_2 * m_a = m_{total}$$\n",
    "\n",
    "\n",
    "$$x_1 * b_k + x_2 * b_a = b_{total}$$\n",
    "\n",
    "Or we could try it with linear algebra.\n",
    "\n",
    "#### Linear Algebra\n",
    "\n",
    "$$\n",
    "\\begin{pmatrix} {a_{11}} & {a_{21}} \\cr {a_{21}} & {a_{22}} \\end{pmatrix} * \\begin{pmatrix} {x_1} \\cr {x_2} \\end{pmatrix} = \\begin{pmatrix} {y_1} \\cr {y_2} \\end{pmatrix}\n",
    "$$\n",
    "\n",
    "\n",
    "\n",
    "\n",
    "\n",
    "Now the challenge with the llinear algebra equation is that we need to solve for $x_1$ and $x_2$. To do that we would divide each side by the fare matrix.  However matrices aren't communative so the recommended way to solve is to multiply against the inverted matrices.\n",
    "\n",
    "$$\n",
    " \\begin{pmatrix} {x_1} \\cr {x_2} \\end{pmatrix} = \\begin{pmatrix} {y_1} \\cr {y_2} \\end{pmatrix} * \\begin{pmatrix} {a_{11}} & {a_{21}} \\cr {a_{21}} & {a_{22}} \\end{pmatrix}^{-1}\n",
    "$$\n",
    "\n",
    "The following is my code to solve utilizing linear algebra."
   ]
  },
  {
   "cell_type": "code",
   "execution_count": 1,
   "metadata": {},
   "outputs": [],
   "source": [
    "import numpy as np\n",
    "from numpy.linalg import inv"
   ]
  },
  {
   "cell_type": "code",
   "execution_count": 2,
   "metadata": {},
   "outputs": [
    {
     "data": {
      "text/plain": [
       "array([[3. , 3.5],\n",
       "       [3.2, 3.6]])"
      ]
     },
     "execution_count": 2,
     "metadata": {},
     "output_type": "execute_result"
    }
   ],
   "source": [
    "#Set up the fares matrix (a_11, a_12 etc)\n",
    "\n",
    "fare_costs = np.array([[3.0, 3.5], [3.2, 3.6]])\n",
    "fare_costs"
   ]
  },
  {
   "cell_type": "markdown",
   "metadata": {},
   "source": [
    "We are using numpy to create the matrix.  Be mindful of the shape of the array as it needs to have the proper dimensions. In this example we have 2x2 and 2x1 matrices."
   ]
  },
  {
   "cell_type": "code",
   "execution_count": 3,
   "metadata": {},
   "outputs": [
    {
     "data": {
      "text/plain": [
       "(2, 2)"
      ]
     },
     "execution_count": 3,
     "metadata": {},
     "output_type": "execute_result"
    }
   ],
   "source": [
    "fare_costs.shape"
   ]
  },
  {
   "cell_type": "code",
   "execution_count": 4,
   "metadata": {},
   "outputs": [],
   "source": [
    "total = np.array([\n",
    "    [118.4], \n",
    "    [135.2]\n",
    "    ])"
   ]
  },
  {
   "cell_type": "code",
   "execution_count": 5,
   "metadata": {},
   "outputs": [
    {
     "data": {
      "text/plain": [
       "(2, 1)"
      ]
     },
     "execution_count": 5,
     "metadata": {},
     "output_type": "execute_result"
    }
   ],
   "source": [
    "total.shape"
   ]
  },
  {
   "cell_type": "code",
   "execution_count": 6,
   "metadata": {},
   "outputs": [
    {
     "data": {
      "text/plain": [
       "array([[16.],\n",
       "       [22.]])"
      ]
     },
     "execution_count": 6,
     "metadata": {},
     "output_type": "execute_result"
    }
   ],
   "source": [
    "# Take the inverse of fare_costs and multiple it by the total costs and then sum across each row.\n",
    "# We then reshape the array from 1 dimension (2,) to (2,1) to reflect a column vector per the equation.\n",
    "\n",
    "(inv(fare_costs) * total).sum(axis=0).reshape((2,1))"
   ]
  },
  {
   "cell_type": "markdown",
   "metadata": {},
   "source": [
    "The answer for $x_1$ and $x_2$ are 16 kids and 22 adults."
   ]
  },
  {
   "cell_type": "markdown",
   "metadata": {},
   "source": [
    "reference to original example:  https://www.mathsisfun.com/algebra/matrix-inverse.html"
   ]
  },
  {
   "cell_type": "code",
   "execution_count": null,
   "metadata": {},
   "outputs": [],
   "source": []
  }
 ],
 "metadata": {
  "kernelspec": {
   "display_name": "Python 3",
   "language": "python",
   "name": "python3"
  },
  "language_info": {
   "codemirror_mode": {
    "name": "ipython",
    "version": 3
   },
   "file_extension": ".py",
   "mimetype": "text/x-python",
   "name": "python",
   "nbconvert_exporter": "python",
   "pygments_lexer": "ipython3",
   "version": "3.7.4"
  }
 },
 "nbformat": 4,
 "nbformat_minor": 2
}
